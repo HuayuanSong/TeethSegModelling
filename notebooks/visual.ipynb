{
 "cells": [
  {
   "cell_type": "markdown",
   "metadata": {},
   "source": [
    "# Visualize Result"
   ]
  },
  {
   "cell_type": "code",
   "execution_count": null,
   "metadata": {},
   "outputs": [],
   "source": [
    "import json\n",
    "\n",
    "import numpy as np\n",
    "import matplotlib.pyplot as plt\n",
    "import matplotlib.colors as mcolors\n",
    "import pyvista as pv\n",
    "\n",
    "# Load the .obj file\n",
    "mesh = pv.read('ZOUIF2W4_upper.obj')\n",
    "\n",
    "# Load the JSON file\n",
    "with open('ZOUIF2W4_upper.json', 'r') as file:\n",
    "    labels_data = json.load(file)"
   ]
  },
  {
   "cell_type": "code",
   "execution_count": 46,
   "metadata": {},
   "outputs": [],
   "source": [
    "# Assuming labels_data['labels'] is a list of labels\n",
    "labels = labels_data['labels']\n",
    "\n",
    "# Make sure the number of labels matches the number of vertices or faces\n",
    "assert len(labels) == mesh.n_points or len(labels) == mesh.n_cells\n",
    "\n",
    "# If labels correspond to vertices\n",
    "if len(labels) == mesh.n_points:\n",
    "    mesh.point_data['Labels'] = labels\n",
    "# If labels correspond to faces\n",
    "elif len(labels) == mesh.n_cells:\n",
    "    mesh.cell_data['Labels'] = labels"
   ]
  },
  {
   "cell_type": "code",
   "execution_count": null,
   "metadata": {},
   "outputs": [],
   "source": [
    "# Create a pyvista plotter\n",
    "plotter = pv.Plotter()\n",
    "\n",
    "# Add the mesh to the plotter with labels as a scalar field\n",
    "#plotter.add_mesh(mesh, scalars='Labels', show_scalar_bar=True, cmap='jet')\n",
    "cmap = plt.cm.get_cmap('jet', 27)  # Using a colormap with sufficient distinct colors\n",
    "\n",
    "colors = cmap(np.linspace(0, 1, 27))  # Generate colors\n",
    "\n",
    "# Convert colors to a format acceptable by PyVista\n",
    "colormap = mcolors.ListedColormap(colors)\n",
    "\n",
    "# Add the mesh to the plotter with labels as a scalar field\n",
    "#plotter.add_mesh(mesh, scalars='Labels', show_scalar_bar=True, cmap='jet')\n",
    "plotter.add_mesh(mesh, scalars='Labels', show_scalar_bar=True, cmap=colormap, clim=[0, 28])\n",
    "\n",
    "# Show the plot\n",
    "plotter.show()"
   ]
  }
 ],
 "metadata": {
  "kernelspec": {
   "display_name": "Python 3",
   "language": "python",
   "name": "python3"
  },
  "language_info": {
   "codemirror_mode": {
    "name": "ipython",
    "version": 3
   },
   "file_extension": ".py",
   "mimetype": "text/x-python",
   "name": "python",
   "nbconvert_exporter": "python",
   "pygments_lexer": "ipython3",
   "version": "3.8.5"
  },
  "orig_nbformat": 4
 },
 "nbformat": 4,
 "nbformat_minor": 2
}
